{
 "cells": [
  {
   "cell_type": "code",
   "execution_count": 3,
   "metadata": {
    "execution": {
     "iopub.execute_input": "2023-06-09T16:23:05.262513Z",
     "iopub.status.busy": "2023-06-09T16:23:05.261852Z",
     "iopub.status.idle": "2023-06-09T16:23:14.326610Z",
     "shell.execute_reply": "2023-06-09T16:23:14.325446Z",
     "shell.execute_reply.started": "2023-06-09T16:23:05.262473Z"
    }
   },
   "outputs": [
    {
     "name": "stderr",
     "output_type": "stream",
     "text": [
      "/opt/conda/lib/python3.10/site-packages/tensorflow_io/python/ops/__init__.py:98: UserWarning: unable to load libtensorflow_io_plugins.so: unable to open file: libtensorflow_io_plugins.so, from paths: ['/opt/conda/lib/python3.10/site-packages/tensorflow_io/python/ops/libtensorflow_io_plugins.so']\n",
      "caused by: ['/opt/conda/lib/python3.10/site-packages/tensorflow_io/python/ops/libtensorflow_io_plugins.so: undefined symbol: _ZN3tsl6StatusC1EN10tensorflow5error4CodeESt17basic_string_viewIcSt11char_traitsIcEENS_14SourceLocationE']\n",
      "  warnings.warn(f\"unable to load libtensorflow_io_plugins.so: {e}\")\n",
      "/opt/conda/lib/python3.10/site-packages/tensorflow_io/python/ops/__init__.py:104: UserWarning: file system plugins are not loaded: unable to open file: libtensorflow_io.so, from paths: ['/opt/conda/lib/python3.10/site-packages/tensorflow_io/python/ops/libtensorflow_io.so']\n",
      "caused by: ['/opt/conda/lib/python3.10/site-packages/tensorflow_io/python/ops/libtensorflow_io.so: undefined symbol: _ZTVN10tensorflow13GcsFileSystemE']\n",
      "  warnings.warn(f\"file system plugins are not loaded: {e}\")\n"
     ]
    }
   ],
   "source": [
    "import os\n",
    "import tensorflow as tf\n",
    "from tensorflow.keras.preprocessing.image import ImageDataGenerator\n",
    "from tensorflow.keras.applications import MobileNetV2\n",
    "from tensorflow.keras.layers import Dense, GlobalAveragePooling2D\n",
    "from tensorflow.keras.models import Model\n"
   ]
  },
  {
   "cell_type": "code",
   "execution_count": 5,
   "metadata": {
    "execution": {
     "iopub.execute_input": "2023-06-09T16:23:14.337400Z",
     "iopub.status.busy": "2023-06-09T16:23:14.337060Z",
     "iopub.status.idle": "2023-06-09T16:23:14.346168Z",
     "shell.execute_reply": "2023-06-09T16:23:14.345096Z",
     "shell.execute_reply.started": "2023-06-09T16:23:14.337374Z"
    }
   },
   "outputs": [],
   "source": [
    "dataset_dir = '/kaggle/input/bird-species-classification'\n",
    "input_shape = (224, 224, 3)\n",
    "batch_size = 32\n"
   ]
  },
  {
   "cell_type": "code",
   "execution_count": 6,
   "metadata": {
    "execution": {
     "iopub.execute_input": "2023-06-09T16:23:14.347794Z",
     "iopub.status.busy": "2023-06-09T16:23:14.347477Z",
     "iopub.status.idle": "2023-06-09T16:23:14.388963Z",
     "shell.execute_reply": "2023-06-09T16:23:14.388058Z",
     "shell.execute_reply.started": "2023-06-09T16:23:14.347760Z"
    }
   },
   "outputs": [
    {
     "name": "stdout",
     "output_type": "stream",
     "text": [
      "Found 124 images belonging to 16 classes.\n",
      "Found 26 images belonging to 16 classes.\n"
     ]
    }
   ],
   "source": [
    "train_datagen = ImageDataGenerator(\n",
    "    rescale=1./255,\n",
    "    shear_range=0.2,\n",
    "    zoom_range=0.2,\n",
    "    horizontal_flip=True,\n",
    "    validation_split=0.2  # 20% of the data will be used for validation\n",
    ")\n",
    "\n",
    "train_generator = train_datagen.flow_from_directory(\n",
    "    os.path.join(dataset_dir, 'train_data', 'train_data'),\n",
    "    target_size=input_shape[:2],\n",
    "    batch_size=batch_size,\n",
    "    class_mode='categorical',\n",
    "    subset='training'\n",
    ")\n",
    "\n",
    "validation_generator = train_datagen.flow_from_directory(\n",
    "    os.path.join(dataset_dir, 'train_data', 'train_data'),\n",
    "    target_size=input_shape[:2],\n",
    "    batch_size=batch_size,\n",
    "    class_mode='categorical',\n",
    "    subset='validation'\n",
    ")\n"
   ]
  },
  {
   "cell_type": "code",
   "execution_count": 8,
   "metadata": {
    "execution": {
     "iopub.execute_input": "2023-06-09T16:23:14.397286Z",
     "iopub.status.busy": "2023-06-09T16:23:14.396873Z",
     "iopub.status.idle": "2023-06-09T16:23:16.318206Z",
     "shell.execute_reply": "2023-06-09T16:23:16.317388Z",
     "shell.execute_reply.started": "2023-06-09T16:23:14.397249Z"
    }
   },
   "outputs": [],
   "source": [
    "weights_path = '/kaggle/input/mobilenetmodel/mobilenet_v2_weights_tf_dim_ordering_tf_kernels_1.0_224_no_top.h5'\n",
    "\n",
    "base_model = MobileNetV2(\n",
    "    input_shape=input_shape,\n",
    "    include_top=False,\n",
    "    weights=weights_path\n",
    ")\n",
    "\n",
    "for layer in base_model.layers:\n",
    "    layer.trainable = False\n"
   ]
  },
  {
   "cell_type": "code",
   "execution_count": 9,
   "metadata": {
    "execution": {
     "iopub.execute_input": "2023-06-09T16:23:16.319867Z",
     "iopub.status.busy": "2023-06-09T16:23:16.319404Z",
     "iopub.status.idle": "2023-06-09T16:23:16.374439Z",
     "shell.execute_reply": "2023-06-09T16:23:16.373398Z",
     "shell.execute_reply.started": "2023-06-09T16:23:16.319840Z"
    }
   },
   "outputs": [],
   "source": [
    "x = base_model.output\n",
    "x = GlobalAveragePooling2D()(x)\n",
    "x = Dense(256, activation='relu')(x)\n",
    "predictions = Dense(train_generator.num_classes, activation='softmax')(x)\n",
    "\n",
    "model = Model(inputs=base_model.input, outputs=predictions)\n"
   ]
  },
  {
   "cell_type": "code",
   "execution_count": 10,
   "metadata": {
    "execution": {
     "iopub.execute_input": "2023-06-09T16:23:16.376388Z",
     "iopub.status.busy": "2023-06-09T16:23:16.375827Z",
     "iopub.status.idle": "2023-06-09T16:23:16.399119Z",
     "shell.execute_reply": "2023-06-09T16:23:16.397878Z",
     "shell.execute_reply.started": "2023-06-09T16:23:16.376357Z"
    }
   },
   "outputs": [],
   "source": [
    "model.compile(optimizer='adam', loss='categorical_crossentropy', metrics=['accuracy'])"
   ]
  },
  {
   "cell_type": "code",
   "execution_count": 15,
   "metadata": {
    "execution": {
     "iopub.execute_input": "2023-06-09T16:29:54.601492Z",
     "iopub.status.busy": "2023-06-09T16:29:54.601118Z",
     "iopub.status.idle": "2023-06-09T16:36:39.502776Z",
     "shell.execute_reply": "2023-06-09T16:36:39.501587Z",
     "shell.execute_reply.started": "2023-06-09T16:29:54.601463Z"
    }
   },
   "outputs": [
    {
     "name": "stdout",
     "output_type": "stream",
     "text": [
      "Epoch 1/20\n",
      "3/3 [==============================] - 19s 7s/step - loss: 0.0675 - accuracy: 1.0000\n",
      "Epoch 2/20\n",
      "3/3 [==============================] - 15s 5s/step - loss: 0.0665 - accuracy: 0.9896\n",
      "Epoch 3/20\n",
      "3/3 [==============================] - 15s 5s/step - loss: 0.0277 - accuracy: 1.0000\n",
      "Epoch 4/20\n",
      "3/3 [==============================] - 15s 5s/step - loss: 0.0460 - accuracy: 0.9891\n",
      "Epoch 5/20\n",
      "3/3 [==============================] - 15s 5s/step - loss: 0.0259 - accuracy: 1.0000\n",
      "Epoch 6/20\n",
      "3/3 [==============================] - 15s 5s/step - loss: 0.0265 - accuracy: 1.0000\n",
      "Epoch 7/20\n",
      "3/3 [==============================] - 14s 5s/step - loss: 0.0203 - accuracy: 1.0000\n",
      "Epoch 8/20\n",
      "3/3 [==============================] - 14s 5s/step - loss: 0.0296 - accuracy: 0.9891\n",
      "Epoch 9/20\n",
      "3/3 [==============================] - 15s 5s/step - loss: 0.0149 - accuracy: 1.0000\n",
      "Epoch 10/20\n",
      "3/3 [==============================] - 16s 5s/step - loss: 0.0082 - accuracy: 1.0000\n",
      "Epoch 11/20\n",
      "3/3 [==============================] - 16s 4s/step - loss: 0.0142 - accuracy: 1.0000\n",
      "Epoch 12/20\n",
      "3/3 [==============================] - 15s 5s/step - loss: 0.0113 - accuracy: 1.0000\n",
      "Epoch 13/20\n",
      "3/3 [==============================] - 15s 5s/step - loss: 0.0145 - accuracy: 1.0000\n",
      "Epoch 14/20\n",
      "3/3 [==============================] - 15s 5s/step - loss: 0.0142 - accuracy: 1.0000\n",
      "Epoch 15/20\n",
      "3/3 [==============================] - 15s 4s/step - loss: 0.0092 - accuracy: 1.0000\n",
      "Epoch 16/20\n",
      "3/3 [==============================] - 15s 5s/step - loss: 0.0096 - accuracy: 1.0000\n",
      "Epoch 17/20\n",
      "3/3 [==============================] - 15s 5s/step - loss: 0.0092 - accuracy: 1.0000\n",
      "Epoch 18/20\n",
      "3/3 [==============================] - 15s 5s/step - loss: 0.0082 - accuracy: 1.0000\n",
      "Epoch 19/20\n",
      "3/3 [==============================] - 15s 5s/step - loss: 0.0072 - accuracy: 1.0000\n",
      "Epoch 20/20\n",
      "3/3 [==============================] - 15s 5s/step - loss: 0.0074 - accuracy: 1.0000\n"
     ]
    },
    {
     "data": {
      "text/plain": [
       "<keras.callbacks.History at 0x7f9db6eac670>"
      ]
     },
     "execution_count": 15,
     "metadata": {},
     "output_type": "execute_result"
    }
   ],
   "source": [
    "model.fit(\n",
    "    train_generator,\n",
    "    steps_per_epoch=train_generator.samples // batch_size,\n",
    "    validation_data=validation_generator,\n",
    "    validation_steps=validation_generator.samples // batch_size,\n",
    "    epochs=20\n",
    ")\n"
   ]
  },
  {
   "cell_type": "code",
   "execution_count": 16,
   "metadata": {
    "execution": {
     "iopub.execute_input": "2023-06-09T16:39:34.288333Z",
     "iopub.status.busy": "2023-06-09T16:39:34.287893Z",
     "iopub.status.idle": "2023-06-09T16:39:34.316499Z",
     "shell.execute_reply": "2023-06-09T16:39:34.315688Z",
     "shell.execute_reply.started": "2023-06-09T16:39:34.288299Z"
    }
   },
   "outputs": [
    {
     "name": "stdout",
     "output_type": "stream",
     "text": [
      "Found 157 images belonging to 16 classes.\n"
     ]
    }
   ],
   "source": [
    "test_datagen = ImageDataGenerator(rescale=1./255)\n",
    "\n",
    "test_generator = test_datagen.flow_from_directory(\n",
    "    os.path.join(dataset_dir, 'test_data', 'test_data'),\n",
    "    target_size=input_shape[:2],\n",
    "    batch_size=batch_size,\n",
    "    class_mode='categorical',\n",
    "    shuffle=False  # Ensure ordering is maintained for evaluation\n",
    ")\n"
   ]
  },
  {
   "cell_type": "code",
   "execution_count": 17,
   "metadata": {
    "execution": {
     "iopub.execute_input": "2023-06-09T16:39:38.045365Z",
     "iopub.status.busy": "2023-06-09T16:39:38.044982Z",
     "iopub.status.idle": "2023-06-09T16:39:45.535869Z",
     "shell.execute_reply": "2023-06-09T16:39:45.535066Z",
     "shell.execute_reply.started": "2023-06-09T16:39:38.045335Z"
    }
   },
   "outputs": [
    {
     "name": "stdout",
     "output_type": "stream",
     "text": [
      "1/1 [==============================] - 4s 4s/step - loss: 1.5101 - accuracy: 0.6538\n",
      "Validation Loss: 1.510079264640808\n",
      "Validation Accuracy: 0.6538461446762085\n"
     ]
    }
   ],
   "source": [
    "validation_loss, validation_accuracy = model.evaluate(validation_generator)\n",
    "print('Validation Loss:', validation_loss)\n",
    "print('Validation Accuracy:', validation_accuracy)\n"
   ]
  },
  {
   "cell_type": "code",
   "execution_count": 18,
   "metadata": {
    "execution": {
     "iopub.execute_input": "2023-06-09T16:40:02.424887Z",
     "iopub.status.busy": "2023-06-09T16:40:02.424530Z",
     "iopub.status.idle": "2023-06-09T16:40:52.881290Z",
     "shell.execute_reply": "2023-06-09T16:40:52.880181Z",
     "shell.execute_reply.started": "2023-06-09T16:40:02.424859Z"
    }
   },
   "outputs": [
    {
     "name": "stdout",
     "output_type": "stream",
     "text": [
      "5/5 [==============================] - 30s 5s/step - loss: 2.5471 - accuracy: 0.4968\n",
      "Test Loss: 2.547107458114624\n",
      "Test Accuracy: 0.4968152940273285\n"
     ]
    }
   ],
   "source": [
    "test_loss, test_accuracy = model.evaluate(test_generator)\n",
    "print('Test Loss:', test_loss)\n",
    "print('Test Accuracy:', test_accuracy)\n"
   ]
  }
 ],
 "metadata": {
  "kernelspec": {
   "display_name": "Python 3 (ipykernel)",
   "language": "python",
   "name": "python3"
  },
  "language_info": {
   "codemirror_mode": {
    "name": "ipython",
    "version": 3
   },
   "file_extension": ".py",
   "mimetype": "text/x-python",
   "name": "python",
   "nbconvert_exporter": "python",
   "pygments_lexer": "ipython3",
   "version": "3.11.3"
  }
 },
 "nbformat": 4,
 "nbformat_minor": 4
}
